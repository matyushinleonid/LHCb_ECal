{
 "cells": [
  {
   "cell_type": "code",
   "execution_count": 32,
   "metadata": {},
   "outputs": [],
   "source": [
    "from skopt import Optimizer\n",
    "from skopt.learning import GaussianProcessRegressor\n",
    "from skopt.learning.gaussian_process.kernels import RBF, ConstantKernel, Product\n",
    "from tqdm import tqdm_notebook as tqdm\n",
    "from skopt import gp_minimize\n",
    "from time import sleep\n",
    "import docker\n",
    "import random\n",
    "import os\n",
    "import string"
   ]
  },
  {
   "cell_type": "markdown",
   "metadata": {},
   "source": [
    "### Глобальные Параметры"
   ]
  },
  {
   "cell_type": "code",
   "execution_count": 33,
   "metadata": {},
   "outputs": [],
   "source": [
    "# первые n_initial_points модель не обучается\n",
    "n_initial_points = 5\n",
    "\n",
    "# число итераций цикла\n",
    "n_calls = 3\n",
    "\n",
    "# оптимизация на кубе [low_constraint, high_constraint]^dim\n",
    "low_constraint, high_constraint = 2., 301.\n",
    "dim = 1\n",
    "\n",
    "# столько контейнеров вызываются для параллельной работы\n",
    "batch_size = 2\n",
    "\n",
    "# директория на сервере, хранит директории, которые будут монтироваться в контейнеры\n",
    "folder_local = '/home/matyushinleonid/lhcb_ecal/feb_meeting/folder_local'\n",
    "folder_local = '/home/igor/LAMBDA/lhcb_repo'\n",
    "\n",
    "# директория для файлов input и output внутри контейнера\n",
    "folder_container = '/home/nb_user/logs'\n",
    "\n",
    "# python-клиент докера\n",
    "client = docker.from_env()\n",
    "\n",
    "# имя образа\n",
    "container = \"calorbuild\"\n",
    "\n",
    "# имена директорий, каждая соответствует своей копии образа\n",
    "worker_names = ['first_worker', 'second_worker']\n",
    "\n",
    "###\n",
    "first_loop_legal_upper_bounds = [i for i in range(3, 301, 3)]\n",
    "#second_loop_legal_upper_bounds = [i // 3 * 4 for i in first_loop_legal_upper_bounds]\n",
    "#space_size = len(first_loop_legal_upper_bounds)\n",
    "#total_amount_of_inner_part = [first_loop_legal_upper_bounds[i] * second_loop_legal_upper_bounds[i] \\\n",
    "#                              for i in range(space_size)]\n",
    "\n",
    "def crop_number(n):\n",
    "    return min(first_loop_legal_upper_bounds, key=lambda t:abs(t-n))\n",
    "###"
   ]
  },
  {
   "cell_type": "markdown",
   "metadata": {},
   "source": [
    "### Модель"
   ]
  },
  {
   "cell_type": "code",
   "execution_count": 34,
   "metadata": {},
   "outputs": [],
   "source": [
    "kernel = Product(ConstantKernel(1), RBF(1)) + ConstantKernel(1)\n",
    "\n",
    "model = GaussianProcessRegressor(alpha=0, \n",
    "                                 normalize_y=True, \n",
    "                                 noise='gaussian', \n",
    "                                 n_restarts_optimizer=10, \n",
    "                                 kernel=kernel)\n",
    "\n",
    "optimizer = Optimizer([[low_constraint, high_constraint]]*dim,\n",
    "                      model,\n",
    "                      n_initial_points=n_initial_points,\n",
    "                      acq_func='EI',\n",
    "                      acq_optimizer='lbfgs',\n",
    "                      random_state=None)"
   ]
  },
  {
   "cell_type": "markdown",
   "metadata": {},
   "source": [
    "### Оптимизация (+ работа с контейнерами)"
   ]
  },
  {
   "cell_type": "code",
   "execution_count": 45,
   "metadata": {},
   "outputs": [],
   "source": [
    "def get_folder(folder_local):\n",
    "    list_dir = os.listdir(folder_local)\n",
    "    for _ in range(3):\n",
    "        new_folder ='{}/{}'.format(folder_local,\n",
    "                                   ''.join(random.choice(string.ascii_uppercase + string.digits) for _ in range(10)))\n",
    "        if new_folder not in list_dir:\n",
    "            os.mkdir(new_folder)\n",
    "            return new_folder\n",
    "    raise Exception(\"Cannot create uniq folder\")   \n",
    "\n",
    "\n",
    "def write_input_file(input_data):\n",
    "    job_folder = get_folder(folder_local)\n",
    "    file_to_write = '{}/input.txt'.format(job_folder)    \n",
    "    cropped_input_data = list(map(crop_number, input_data))\n",
    "    string_to_write = ' '.join(map(str, cropped_input_data))\n",
    "    with open(file_to_write, \"w\") as file:\n",
    "        print(string_to_write,\n",
    "              file=file)\n",
    "    return new_folder\n",
    "\n",
    "def create_job(job_folder):\n",
    "    client.containers.run(container,\n",
    "                          privileged=True,\n",
    "                          remove=True,\n",
    "                          detach=True,\n",
    "                          hostname='dev',\n",
    "                          tty=True,\n",
    "                          stdin_open=True,\n",
    "                          volumes={job_folder: {'bind': folder_container,\n",
    "                                                     'mode': 'rw'}})\n",
    "    \n",
    "\n",
    "def read_output_file(job_folder):\n",
    "    file_to_read = '{}/output.txt'.format(job_folder)\n",
    "    with open(file_to_read, 'r') as myfile:\n",
    "        data = myfile.read()\n",
    "    return float(data)\n",
    "\n",
    "def get_price(params, lamb=1):\n",
    "    param1 = crop_number(params[0])\n",
    "    param2 = param1 // 3 * 4\n",
    "    return lamb * param1 * param2"
   ]
  },
  {
   "cell_type": "code",
   "execution_count": 38,
   "metadata": {
    "scrolled": true
   },
   "outputs": [
    {
     "data": {
      "application/vnd.jupyter.widget-view+json": {
       "model_id": "efb96c659dbc4c5f95ec9c89f73aca38",
       "version_major": 2,
       "version_minor": 0
      },
      "text/plain": [
       "HBox(children=(IntProgress(value=0, max=3), HTML(value='')))"
      ]
     },
     "metadata": {},
     "output_type": "display_data"
    },
    {
     "name": "stdout",
     "output_type": "stream",
     "text": [
      "\n"
     ]
    },
    {
     "ename": "TypeError",
     "evalue": "write_input_file() takes 1 positional argument but 2 were given",
     "output_type": "error",
     "traceback": [
      "\u001b[0;31m---------------------------------------------------------------------------\u001b[0m",
      "\u001b[0;31mTypeError\u001b[0m                                 Traceback (most recent call last)",
      "\u001b[0;32m<ipython-input-38-e69ef23a5bf2>\u001b[0m in \u001b[0;36m<module>\u001b[0;34m()\u001b[0m\n\u001b[1;32m      6\u001b[0m         \u001b[0mprice\u001b[0m \u001b[0;34m=\u001b[0m \u001b[0mget_price\u001b[0m\u001b[0;34m(\u001b[0m\u001b[0mx\u001b[0m\u001b[0;34m)\u001b[0m\u001b[0;34m\u001b[0m\u001b[0m\n\u001b[1;32m      7\u001b[0m         \u001b[0mprices\u001b[0m\u001b[0;34m.\u001b[0m\u001b[0mappend\u001b[0m\u001b[0;34m(\u001b[0m\u001b[0mprice\u001b[0m\u001b[0;34m)\u001b[0m\u001b[0;34m\u001b[0m\u001b[0m\n\u001b[0;32m----> 8\u001b[0;31m         \u001b[0mwrite_input_file\u001b[0m\u001b[0;34m(\u001b[0m\u001b[0mworker_name\u001b[0m\u001b[0;34m,\u001b[0m \u001b[0mx\u001b[0m\u001b[0;34m)\u001b[0m\u001b[0;34m\u001b[0m\u001b[0m\n\u001b[0m\u001b[1;32m      9\u001b[0m         \u001b[0mcreate_job\u001b[0m\u001b[0;34m(\u001b[0m\u001b[0mworker_name\u001b[0m\u001b[0;34m)\u001b[0m\u001b[0;34m\u001b[0m\u001b[0m\n\u001b[1;32m     10\u001b[0m \u001b[0;34m\u001b[0m\u001b[0m\n",
      "\u001b[0;31mTypeError\u001b[0m: write_input_file() takes 1 positional argument but 2 were given"
     ]
    }
   ],
   "source": [
    "for i in tqdm(range(n_calls)):\n",
    "    X = optimizer.ask(n_points=batch_size)\n",
    "    prices = []\n",
    "    for i, worker_name in enumerate(worker_names):\n",
    "        x = X[i]\n",
    "        price = get_price(x)\n",
    "        prices.append(price)\n",
    "        write_input_file(worker_name, x)\n",
    "        create_job(worker_name)\n",
    "    \n",
    "    sleep(15 * 60) # 15 min sleep\n",
    "    \n",
    "    Y = []\n",
    "    for i, worker_name in enumerate(worker_names):\n",
    "        y = read_output_file(worker_name)\n",
    "        price = prices[i]\n",
    "        Y.append(y + price)\n",
    "        \n",
    "    optimizer.tell(X, Y)"
   ]
  },
  {
   "cell_type": "code",
   "execution_count": 6,
   "metadata": {},
   "outputs": [
    {
     "data": {
      "text/plain": [
       "([[280.7934963888376],\n",
       "  [214.45812970118018],\n",
       "  [268.9186554601966],\n",
       "  [193.20322796424293],\n",
       "  [68.68811441603718],\n",
       "  [7.705841379134213]],\n",
       " [106579.06183393415,\n",
       "  60942.02138167647,\n",
       "  97722.98133277889,\n",
       "  49630.40136958836,\n",
       "  6877.329098757192,\n",
       "  682.0861652574987])"
      ]
     },
     "execution_count": 6,
     "metadata": {},
     "output_type": "execute_result"
    }
   ],
   "source": [
    "optimizer.Xi, optimizer.yi"
   ]
  },
  {
   "cell_type": "markdown",
   "metadata": {
    "collapsed": true
   },
   "source": [
    "# Parallel with multiproccesing\n",
    "\n"
   ]
  },
  {
   "cell_type": "code",
   "execution_count": 43,
   "metadata": {},
   "outputs": [],
   "source": [
    "from multiprocessing import Queue, Pool, Manager"
   ]
  },
  {
   "cell_type": "code",
   "execution_count": 44,
   "metadata": {},
   "outputs": [],
   "source": [
    "def worker_do_job(q_in, q_out):\n",
    "    while True:\n",
    "        data = q_in.get()        \n",
    "        in_dir = write_input_file(data)        \n",
    "        create_job(in_dir)       \n",
    "        result = read_output_file(in_dir)\n",
    "        q_out.put((data, result))       \n",
    "    return     "
   ]
  },
  {
   "cell_type": "code",
   "execution_count": null,
   "metadata": {},
   "outputs": [],
   "source": [
    "pool = Pool(batch_size) \n",
    "m = Manager()\n",
    "q_in = m.Queue()\n",
    "q_out = m.Queue()\n",
    "pool.starmap_async(worker_do_job, [(q_in, q_out)]*batch_size)\n",
    "\n",
    "X = optimizer.ask(n_points=batch_size)\n",
    "for i in range(batch_size):\n",
    "    q_in.put(X[i])\n",
    "\n",
    "for i in tqdm(range(n_calls-batch_size)): \n",
    "    x, y = q_out.get()\n",
    "    optimizer.tell(x, y)    \n",
    "    q_in.put(optimizer.ask())\n",
    "    \n",
    "for _ in range(batch_size):\n",
    "    x, y  = q_out.get()\n",
    "    optimizer.tell(x, y)        \n",
    "    \n",
    "pool.terminate()"
   ]
  },
  {
   "cell_type": "code",
   "execution_count": 47,
   "metadata": {},
   "outputs": [
    {
     "name": "stdout",
     "output_type": "stream",
     "text": [
      "1\n",
      "2\n"
     ]
    }
   ],
   "source": [
    "m = Manager()\n",
    "q_test = m.Queue()\n",
    "q_test.put((1,2))\n",
    "\n",
    "x, y = q_test.get()\n",
    "print(x)\n",
    "print(y)"
   ]
  }
 ],
 "metadata": {
  "kernelspec": {
   "display_name": "Python 3",
   "language": "python",
   "name": "python3"
  },
  "language_info": {
   "codemirror_mode": {
    "name": "ipython",
    "version": 3
   },
   "file_extension": ".py",
   "mimetype": "text/x-python",
   "name": "python",
   "nbconvert_exporter": "python",
   "pygments_lexer": "ipython3",
   "version": "3.6.4"
  }
 },
 "nbformat": 4,
 "nbformat_minor": 2
}
