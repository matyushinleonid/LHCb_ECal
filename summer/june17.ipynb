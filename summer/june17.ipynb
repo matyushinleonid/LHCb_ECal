{
 "cells": [
  {
   "cell_type": "code",
   "execution_count": 1,
   "metadata": {},
   "outputs": [
    {
     "name": "stderr",
     "output_type": "stream",
     "text": [
      "/opt/conda/anaconda3/lib/python3.6/site-packages/sklearn/ensemble/weight_boosting.py:29: DeprecationWarning: numpy.core.umath_tests is an internal NumPy module and should not be imported. It will be removed in a future NumPy release.\n",
      "  from numpy.core.umath_tests import inner1d\n"
     ]
    }
   ],
   "source": [
    "from skopt import Optimizer\n",
    "from skopt.learning import GaussianProcessRegressor\n",
    "from skopt.learning.gaussian_process.kernels import RBF, ConstantKernel, Product\n",
    "from tqdm import tqdm_notebook as tqdm\n",
    "from skopt import gp_minimize\n",
    "from time import sleep, time\n",
    "import docker\n",
    "import os\n",
    "from pathlib import Path\n",
    "import numpy as np\n",
    "\n",
    "from get_borders import get_borders"
   ]
  },
  {
   "cell_type": "markdown",
   "metadata": {},
   "source": [
    "### Глобальные Параметры"
   ]
  },
  {
   "cell_type": "code",
   "execution_count": 2,
   "metadata": {
    "collapsed": true
   },
   "outputs": [],
   "source": [
    "# столько контейнеров вызываются для параллельной работы\n",
    "batch_size = 10\n",
    "\n",
    "# директория на сервере, хранит директории, которые будут монтироваться в контейнеры\n",
    "folder_local = '/home/matyushinleonid/lhcb_ecal/summer/folder_local'\n",
    "\n",
    "# директория для файлов input и output внутри контейнера\n",
    "folder_container = '/home/nb_user/logs'\n",
    "\n",
    "# python-клиент докера\n",
    "client = docker.from_env()\n",
    "\n",
    "# имя образа\n",
    "container = \"calorbuild\"\n",
    "\n",
    "# имена директорий, каждая соответствует своей копии образа\n",
    "worker_names = ['worker_'+str(i) for i in range(1,batch_size+1)]\n",
    "#worker_names = ['first_worker']"
   ]
  },
  {
   "cell_type": "code",
   "execution_count": 3,
   "metadata": {},
   "outputs": [],
   "source": [
    "! rm -rf folder_local\n",
    "! mkdir folder_local\n",
    "\n",
    "for worker_name in worker_names:\n",
    "    try:\n",
    "        os.mkdir(Path(folder_local) / Path(worker_name))\n",
    "    except Exception:\n",
    "        pass"
   ]
  },
  {
   "cell_type": "markdown",
   "metadata": {},
   "source": [
    "### Оптимизация (+ работа с контейнерами)"
   ]
  },
  {
   "cell_type": "code",
   "execution_count": 4,
   "metadata": {
    "collapsed": true
   },
   "outputs": [],
   "source": [
    "def write_input_file(worker_name, input_data):\n",
    "    file_to_write = Path(folder_local) / Path(worker_name) / 'input.txt' #'{}/{}/input.txt'.format(folder_local, worker_name)\n",
    "    \n",
    "    y_inner,x_inner,a_inner = input_data\n",
    "    result = get_borders(10,\n",
    "                         16,\n",
    "                         1,\n",
    "                         y_inner,\n",
    "                         x_inner,\n",
    "                         a_inner)\n",
    "    \n",
    "    np.set_printoptions(threshold=np.inf, linewidth=np.inf)  # turn off summarization, line-wrapping\n",
    "    with open(file_to_write, 'w') as f:\n",
    "        np.savetxt(f, result, fmt=\"%i\", delimiter=' ', newline='\\n', header='', footer='', comments='# ')\n",
    "\n",
    "def create_job(worker_name):\n",
    "    folder_to_mount = '{}/{}'.format(folder_local, worker_name)\n",
    "    client.containers.run(container,\n",
    "                          privileged=True,\n",
    "                          remove=True,\n",
    "                          detach=True,\n",
    "                          hostname='dev',\n",
    "                          tty=True,\n",
    "                          stdin_open=True,\n",
    "                          volumes={folder_to_mount: {'bind': folder_container,\n",
    "                                                     'mode': 'rw'}})\n",
    "\n",
    "def read_output_file(worker_name):\n",
    "    file_to_read = Path(folder_local) / Path(worker_name) / 'output.txt' #'{}/{}/output.txt'.format(folder_local, worker_name)\n",
    "    with open(file_to_read, 'r') as myfile:\n",
    "        data = myfile.read()\n",
    "    return float(data)\n",
    "\n",
    "def delete_output_file(worker_name):\n",
    "    file_to_delete = Path(folder_local) / Path(worker_name) / 'output.txt'\n",
    "    os.remove(file_to_delete)\n",
    "    \n",
    "def do_output_file_exists(worker_name):\n",
    "    file_to_check = Path(folder_local) / Path(worker_name) / 'output.txt'\n",
    "    if file_to_check.exists(): \n",
    "        return True\n",
    "    else:\n",
    "        return False"
   ]
  },
  {
   "cell_type": "code",
   "execution_count": 5,
   "metadata": {
    "scrolled": true
   },
   "outputs": [],
   "source": [
    "# start simulations\n",
    "X = [[3, 16, 0.01],\n",
    "     [3, 17, 0.563],\n",
    "     [3, 18, 0.9475],\n",
    "     [4, 12, 0.01],\n",
    "     [4, 13, 0.5303],\n",
    "     [4, 14, 0.9524],\n",
    "     [5, 10, 0.3291],\n",
    "     [5, 11, 0.7889],\n",
    "     [6, 8, 0.01],\n",
    "     [6, 9, 0.775]]\n",
    "\n",
    "for i, worker_name in enumerate(worker_names):\n",
    "    x = X[i]\n",
    "    write_input_file(worker_name, x)\n",
    "    create_job(worker_name)"
   ]
  },
  {
   "cell_type": "code",
   "execution_count": 6,
   "metadata": {
    "scrolled": true
   },
   "outputs": [],
   "source": [
    "# wait till simulation is done    \n",
    "simulation_done_statuses = [False] * batch_size\n",
    "time_before_sumulations = time()\n",
    "while sum(simulation_done_statuses) < batch_size:\n",
    "    for i, worker_name in enumerate(worker_names):\n",
    "        if do_output_file_exists(worker_name):\n",
    "            simulation_done_statuses[i] = True\n",
    "    sleep(10)\n",
    "\n",
    "    # sometimes docker doesn't produce output file. In this case we skip loop step\n",
    "    if time() - time_before_sumulations > 20 * 60: \n",
    "        break"
   ]
  },
  {
   "cell_type": "code",
   "execution_count": 7,
   "metadata": {
    "collapsed": true
   },
   "outputs": [],
   "source": [
    "# perform an optimization step\n",
    "final_answers = []\n",
    "for i, worker_name in enumerate(worker_names):\n",
    "    if simulation_done_statuses[i]:\n",
    "        y = read_output_file(worker_name)\n",
    "        delete_output_file(worker_name)\n",
    "        final_answers.append({'params':X[i], 'metric':y})"
   ]
  },
  {
   "cell_type": "code",
   "execution_count": 8,
   "metadata": {},
   "outputs": [
    {
     "data": {
      "text/plain": [
       "[{'metric': 20.569971, 'params': [3, 16, 0.01]},\n",
       " {'metric': 20.620939, 'params': [3, 17, 0.563]},\n",
       " {'metric': 20.6493, 'params': [3, 18, 0.9475]},\n",
       " {'metric': 19.813091, 'params': [4, 12, 0.01]},\n",
       " {'metric': 19.823282, 'params': [4, 13, 0.5303]},\n",
       " {'metric': 19.842154, 'params': [4, 14, 0.9524]},\n",
       " {'metric': 19.878986, 'params': [5, 10, 0.3291]},\n",
       " {'metric': 19.755478, 'params': [5, 11, 0.7889]},\n",
       " {'metric': 19.814251, 'params': [6, 8, 0.01]},\n",
       " {'metric': 19.950966, 'params': [6, 9, 0.775]}]"
      ]
     },
     "execution_count": 8,
     "metadata": {},
     "output_type": "execute_result"
    }
   ],
   "source": [
    "final_answers"
   ]
  },
  {
   "cell_type": "code",
   "execution_count": null,
   "metadata": {
    "collapsed": true
   },
   "outputs": [],
   "source": []
  }
 ],
 "metadata": {
  "kernelspec": {
   "display_name": "Python 3",
   "language": "python",
   "name": "python3"
  },
  "language_info": {
   "codemirror_mode": {
    "name": "ipython",
    "version": 3
   },
   "file_extension": ".py",
   "mimetype": "text/x-python",
   "name": "python",
   "nbconvert_exporter": "python",
   "pygments_lexer": "ipython3",
   "version": "3.6.2"
  }
 },
 "nbformat": 4,
 "nbformat_minor": 2
}
