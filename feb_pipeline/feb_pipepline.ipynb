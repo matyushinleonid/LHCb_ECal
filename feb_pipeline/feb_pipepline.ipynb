{
 "cells": [
  {
   "cell_type": "code",
   "execution_count": 1,
   "metadata": {},
   "outputs": [
    {
     "name": "stderr",
     "output_type": "stream",
     "text": [
      "/opt/conda/anaconda3/lib/python3.6/site-packages/sklearn/ensemble/weight_boosting.py:29: DeprecationWarning: numpy.core.umath_tests is an internal NumPy module and should not be imported. It will be removed in a future NumPy release.\n",
      "  from numpy.core.umath_tests import inner1d\n"
     ]
    }
   ],
   "source": [
    "from skopt import Optimizer\n",
    "from skopt.learning import GaussianProcessRegressor\n",
    "from skopt.learning.gaussian_process.kernels import RBF, ConstantKernel, Product\n",
    "from tqdm import tqdm_notebook as tqdm\n",
    "from skopt import gp_minimize\n",
    "from time import sleep\n",
    "import docker"
   ]
  },
  {
   "cell_type": "markdown",
   "metadata": {},
   "source": [
    "### Глобальные Параметры"
   ]
  },
  {
   "cell_type": "code",
   "execution_count": 2,
   "metadata": {
    "collapsed": true
   },
   "outputs": [],
   "source": [
    "# первые n_initial_points модель не обучается\n",
    "n_initial_points = 5\n",
    "\n",
    "# число итераций цикла\n",
    "n_calls = 3\n",
    "\n",
    "# оптимизация на кубе [low_constraint, high_constraint]^dim\n",
    "low_constraint, high_constraint = 2., 301.\n",
    "dim = 1\n",
    "\n",
    "# столько контейнеров вызываются для параллельной работы\n",
    "batch_size = 2\n",
    "\n",
    "# директория на сервере, хранит директории, которые будут монтироваться в контейнеры\n",
    "folder_local = '/home/matyushinleonid/lhcb_ecal/feb_meeting/folder_local'\n",
    "\n",
    "# директория для файлов input и output внутри контейнера\n",
    "folder_container = '/home/nb_user/logs'\n",
    "\n",
    "# python-клиент докера\n",
    "client = docker.from_env()\n",
    "\n",
    "# имя образа\n",
    "container = \"calorbuild\"\n",
    "\n",
    "# имена директорий, каждая соответствует своей копии образа\n",
    "worker_names = ['first_worker', 'second_worker']\n",
    "\n",
    "###\n",
    "first_loop_legal_upper_bounds = [i for i in range(3, 301, 3)]\n",
    "#second_loop_legal_upper_bounds = [i // 3 * 4 for i in first_loop_legal_upper_bounds]\n",
    "#space_size = len(first_loop_legal_upper_bounds)\n",
    "#total_amount_of_inner_part = [first_loop_legal_upper_bounds[i] * second_loop_legal_upper_bounds[i] \\\n",
    "#                              for i in range(space_size)]\n",
    "\n",
    "def crop_number(n):\n",
    "    return min(first_loop_legal_upper_bounds, key=lambda t:abs(t-n))\n",
    "###"
   ]
  },
  {
   "cell_type": "markdown",
   "metadata": {},
   "source": [
    "### Модель"
   ]
  },
  {
   "cell_type": "code",
   "execution_count": 3,
   "metadata": {
    "collapsed": true
   },
   "outputs": [],
   "source": [
    "kernel = Product(ConstantKernel(1), RBF(1)) + ConstantKernel(1)\n",
    "\n",
    "model = GaussianProcessRegressor(alpha=0, \n",
    "                                 normalize_y=True, \n",
    "                                 noise='gaussian', \n",
    "                                 n_restarts_optimizer=10, \n",
    "                                 kernel=kernel)\n",
    "\n",
    "optimizer = Optimizer([[low_constraint, high_constraint]]*dim,\n",
    "                      model,\n",
    "                      n_initial_points=n_initial_points,\n",
    "                      acq_func='EI',\n",
    "                      acq_optimizer='lbfgs',\n",
    "                      random_state=None)"
   ]
  },
  {
   "cell_type": "markdown",
   "metadata": {},
   "source": [
    "### Оптимизация (+ работа с контейнерами)"
   ]
  },
  {
   "cell_type": "code",
   "execution_count": null,
   "metadata": {
    "collapsed": true
   },
   "outputs": [],
   "source": [
    "def write_input_file(worker_name, input_data):\n",
    "    file_to_write = '{}/{}/input.txt'.format(folder_local, worker_name)\n",
    "    cropped_input_data = list(map(crop_number, input_data))\n",
    "    string_to_write = ' '.join(map(str, cropped_input_data))\n",
    "    with open(file_to_write, \"w\") as file:\n",
    "        print(string_to_write,\n",
    "              file=file)\n",
    "\n",
    "def create_job(worker_name):\n",
    "    folder_to_mount = '{}/{}'.format(folder_local, worker_name)\n",
    "    client.containers.run(container,\n",
    "                          privileged=True,\n",
    "                          remove=True,\n",
    "                          detach=True,\n",
    "                          hostname='dev',\n",
    "                          tty=True,\n",
    "                          stdin_open=True,\n",
    "                          volumes={folder_to_mount: {'bind': folder_container,\n",
    "                                                     'mode': 'rw'}})\n",
    "\n",
    "def read_output_file(worker_name):\n",
    "    file_to_read = '{}/{}/output.txt'.format(folder_local, worker_name)\n",
    "    with open(file_to_read, 'r') as myfile:\n",
    "        data = myfile.read()\n",
    "    return float(data)\n",
    "\n",
    "def get_price(params, lamb=1):\n",
    "    param1 = crop_number(params[0])\n",
    "    param2 = param1 // 3 * 4\n",
    "    return lamb * param1 * param2"
   ]
  },
  {
   "cell_type": "code",
   "execution_count": null,
   "metadata": {
    "scrolled": true
   },
   "outputs": [
    {
     "name": "stderr",
     "output_type": "stream",
     "text": [
      "Widget Javascript not detected.  It may not be installed or enabled properly.\n"
     ]
    },
    {
     "data": {
      "application/vnd.jupyter.widget-view+json": {
       "model_id": "61751f36b92048c4960146e17f6030af"
      }
     },
     "metadata": {},
     "output_type": "display_data"
    },
    {
     "name": "stdout",
     "output_type": "stream",
     "text": [
      "\n"
     ]
    }
   ],
   "source": [
    "for i in tqdm(range(n_calls)):\n",
    "    X = optimizer.ask(n_points=batch_size)\n",
    "    prices = []\n",
    "    for i, worker_name in enumerate(worker_names):\n",
    "        x = X[i]\n",
    "        price = get_price(x)\n",
    "        prices.append(price)\n",
    "        write_input_file(worker_name, x)\n",
    "        create_job(worker_name)\n",
    "    \n",
    "    sleep(15 * 60) # 15 min sleep\n",
    "    \n",
    "    Y = []\n",
    "    for i, worker_name in enumerate(worker_names):\n",
    "        y = read_output_file(worker_name)\n",
    "        price = prices[i]\n",
    "        Y.append(y + price)\n",
    "        \n",
    "    optimizer.tell(X, Y)"
   ]
  },
  {
   "cell_type": "code",
   "execution_count": 6,
   "metadata": {},
   "outputs": [
    {
     "data": {
      "text/plain": [
       "([[280.7934963888376],\n",
       "  [214.45812970118018],\n",
       "  [268.9186554601966],\n",
       "  [193.20322796424293],\n",
       "  [68.68811441603718],\n",
       "  [7.705841379134213]],\n",
       " [106579.06183393415,\n",
       "  60942.02138167647,\n",
       "  97722.98133277889,\n",
       "  49630.40136958836,\n",
       "  6877.329098757192,\n",
       "  682.0861652574987])"
      ]
     },
     "execution_count": 6,
     "metadata": {},
     "output_type": "execute_result"
    }
   ],
   "source": [
    "optimizer.Xi, optimizer.yi"
   ]
  },
  {
   "cell_type": "code",
   "execution_count": null,
   "metadata": {
    "collapsed": true
   },
   "outputs": [],
   "source": []
  }
 ],
 "metadata": {
  "kernelspec": {
   "display_name": "Python 3",
   "language": "python",
   "name": "python3"
  },
  "language_info": {
   "codemirror_mode": {
    "name": "ipython",
    "version": 3
   },
   "file_extension": ".py",
   "mimetype": "text/x-python",
   "name": "python",
   "nbconvert_exporter": "python",
   "pygments_lexer": "ipython3",
   "version": "3.6.2"
  }
 },
 "nbformat": 4,
 "nbformat_minor": 2
}
