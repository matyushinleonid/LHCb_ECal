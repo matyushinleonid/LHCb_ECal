{
 "cells": [
  {
   "cell_type": "code",
   "execution_count": 1,
   "metadata": {},
   "outputs": [
    {
     "name": "stderr",
     "output_type": "stream",
     "text": [
      "/opt/conda/anaconda3/lib/python3.6/site-packages/sklearn/ensemble/weight_boosting.py:29: DeprecationWarning: numpy.core.umath_tests is an internal NumPy module and should not be imported. It will be removed in a future NumPy release.\n",
      "  from numpy.core.umath_tests import inner1d\n"
     ]
    }
   ],
   "source": [
    "from skopt import Optimizer\n",
    "from skopt.learning import GaussianProcessRegressor\n",
    "from skopt.learning.gaussian_process.kernels import RBF, ConstantKernel, Product\n",
    "from tqdm import tqdm_notebook as tqdm\n",
    "from skopt import gp_minimize\n",
    "from time import sleep, time\n",
    "import docker\n",
    "import os\n",
    "from pathlib import Path\n",
    "import numpy as np\n",
    "\n",
    "from get_borders import get_borders"
   ]
  },
  {
   "cell_type": "markdown",
   "metadata": {},
   "source": [
    "### Глобальные Параметры"
   ]
  },
  {
   "cell_type": "code",
   "execution_count": 3,
   "metadata": {
    "collapsed": true
   },
   "outputs": [],
   "source": [
    "# первые n_initial_points модель не обучается\n",
    "n_initial_points = 5\n",
    "\n",
    "# число итераций цикла\n",
    "n_calls = 4\n",
    "\n",
    "# оптимизация на кубе [low_constraint, high_constraint]^dim\n",
    "low_constraint, high_constraint = 0.001, 1.\n",
    "dim = 1\n",
    "\n",
    "# столько контейнеров вызываются для параллельной работы\n",
    "batch_size = 2\n",
    "\n",
    "# директория на сервере, хранит директории, которые будут монтироваться в контейнеры\n",
    "folder_local = '/home/matyushinleonid/lhcb_ecal/summer/folder_local'\n",
    "\n",
    "# директория для файлов input и output внутри контейнера\n",
    "folder_container = '/home/nb_user/logs'\n",
    "\n",
    "# python-клиент докера\n",
    "client = docker.from_env()\n",
    "\n",
    "# имя образа\n",
    "container = \"calorbuild\"\n",
    "\n",
    "# имена директорий, каждая соответствует своей копии образа\n",
    "worker_names = ['first_worker', 'second_worker']\n",
    "#worker_names = ['first_worker']"
   ]
  },
  {
   "cell_type": "markdown",
   "metadata": {},
   "source": [
    "### Модель"
   ]
  },
  {
   "cell_type": "code",
   "execution_count": 4,
   "metadata": {
    "collapsed": true
   },
   "outputs": [],
   "source": [
    "kernel = Product(ConstantKernel(1), RBF(1)) + ConstantKernel(1)\n",
    "\n",
    "model = GaussianProcessRegressor(alpha=0, \n",
    "                                 normalize_y=True, \n",
    "                                 noise='gaussian', \n",
    "                                 n_restarts_optimizer=10, \n",
    "                                 kernel=kernel)\n",
    "\n",
    "optimizer = Optimizer([[low_constraint, high_constraint]]*dim,\n",
    "                      model,\n",
    "                      n_initial_points=n_initial_points,\n",
    "                      acq_func='EI',\n",
    "                      acq_optimizer='lbfgs',\n",
    "                      random_state=None)"
   ]
  },
  {
   "cell_type": "markdown",
   "metadata": {},
   "source": [
    "### Оптимизация (+ работа с контейнерами)"
   ]
  },
  {
   "cell_type": "code",
   "execution_count": 5,
   "metadata": {
    "collapsed": true
   },
   "outputs": [],
   "source": [
    "def write_input_file(worker_name, input_data):\n",
    "    file_to_write = Path(folder_local) / Path(worker_name) / 'input.txt' #'{}/{}/input.txt'.format(folder_local, worker_name)\n",
    "    \n",
    "    a_inner = input_data[0]\n",
    "    result = get_borders(10,16,1,6,8,a_inner)\n",
    "    \n",
    "    np.set_printoptions(threshold=np.inf, linewidth=np.inf)  # turn off summarization, line-wrapping\n",
    "    with open(file_to_write, 'w') as f:\n",
    "        np.savetxt(f, result, fmt=\"%i\", delimiter=' ', newline='\\n', header='', footer='', comments='# ')\n",
    "\n",
    "def create_job(worker_name):\n",
    "    folder_to_mount = '{}/{}'.format(folder_local, worker_name)\n",
    "    client.containers.run(container,\n",
    "                          privileged=True,\n",
    "                          remove=True,\n",
    "                          detach=True,\n",
    "                          hostname='dev',\n",
    "                          tty=True,\n",
    "                          stdin_open=True,\n",
    "                          volumes={folder_to_mount: {'bind': folder_container,\n",
    "                                                     'mode': 'rw'}})\n",
    "\n",
    "def read_output_file(worker_name):\n",
    "    file_to_read = Path(folder_local) / Path(worker_name) / 'output.txt' #'{}/{}/output.txt'.format(folder_local, worker_name)\n",
    "    with open(file_to_read, 'r') as myfile:\n",
    "        data = myfile.read()\n",
    "    return float(data)\n",
    "\n",
    "def delete_output_file(worker_name):\n",
    "    file_to_delete = Path(folder_local) / Path(worker_name) / 'output.txt'\n",
    "    os.remove(file_to_delete)\n",
    "    \n",
    "def do_output_file_exists(worker_name):\n",
    "    file_to_check = Path(folder_local) / Path(worker_name) / 'output.txt'\n",
    "    if file_to_check.exists(): \n",
    "        return True\n",
    "    else:\n",
    "        return False"
   ]
  },
  {
   "cell_type": "code",
   "execution_count": 6,
   "metadata": {
    "scrolled": true
   },
   "outputs": [
    {
     "data": {
      "application/vnd.jupyter.widget-view+json": {
       "model_id": "139bc9a99d5b425080f76c9ea2869d2c"
      }
     },
     "metadata": {},
     "output_type": "display_data"
    },
    {
     "name": "stderr",
     "output_type": "stream",
     "text": [
      "/opt/conda/anaconda3/lib/python3.6/site-packages/skopt/optimizer/optimizer.py:384: UserWarning: The objective has been evaluated at this point before.\n",
      "  warnings.warn(\"The objective has been evaluated \"\n"
     ]
    },
    {
     "name": "stdout",
     "output_type": "stream",
     "text": [
      "\n"
     ]
    }
   ],
   "source": [
    "for i in tqdm(range(n_calls)):\n",
    "    \n",
    "    # start simulations\n",
    "    X = optimizer.ask(n_points=batch_size)\n",
    "    for i, worker_name in enumerate(worker_names):\n",
    "        x = X[i]\n",
    "        write_input_file(worker_name, x)\n",
    "        create_job(worker_name)\n",
    "        \n",
    "    # wait till simulation is done    \n",
    "    simulation_done_statuses = [False] * batch_size\n",
    "    time_before_sumulations = time()\n",
    "    while sum(simulation_done_statuses) < batch_size:\n",
    "        for i, worker_name in enumerate(worker_names):\n",
    "            if do_output_file_exists(worker_name):\n",
    "                simulation_done_statuses[i] = True\n",
    "        sleep(10)\n",
    "        \n",
    "        # sometimes docker doesn't produce output file. In this case we skip loop step\n",
    "        if time() - time_before_sumulations > 20 * 60: \n",
    "            break\n",
    "    \n",
    "    # perform an optimization step\n",
    "    #Y = []\n",
    "    for i, worker_name in enumerate(worker_names):\n",
    "        if simulation_done_statuses[i]:\n",
    "            y = read_output_file(worker_name)\n",
    "            delete_output_file(worker_name)\n",
    "            optimizer.tell(X[i], y)"
   ]
  },
  {
   "cell_type": "code",
   "execution_count": null,
   "metadata": {
    "collapsed": true
   },
   "outputs": [],
   "source": []
  },
  {
   "cell_type": "code",
   "execution_count": 10,
   "metadata": {},
   "outputs": [
    {
     "data": {
      "text/plain": [
       "[[0.6377991296422721],\n",
       " [0.9988647066986664],\n",
       " [0.5930026775700424],\n",
       " [0.19856734532563303],\n",
       " [0.020160185398327923],\n",
       " [0.001],\n",
       " [0.001],\n",
       " [0.036025874521633576]]"
      ]
     },
     "execution_count": 10,
     "metadata": {},
     "output_type": "execute_result"
    }
   ],
   "source": [
    "optimizer.Xi"
   ]
  },
  {
   "cell_type": "code",
   "execution_count": 9,
   "metadata": {},
   "outputs": [
    {
     "data": {
      "text/plain": [
       "[21.512728,\n",
       " 21.878738,\n",
       " 21.535324,\n",
       " 21.005547,\n",
       " 20.740114,\n",
       " 20.73403,\n",
       " 20.73403,\n",
       " 20.73403]"
      ]
     },
     "execution_count": 9,
     "metadata": {},
     "output_type": "execute_result"
    }
   ],
   "source": [
    "optimizer.yi"
   ]
  },
  {
   "cell_type": "code",
   "execution_count": null,
   "metadata": {
    "collapsed": true
   },
   "outputs": [],
   "source": []
  }
 ],
 "metadata": {
  "kernelspec": {
   "display_name": "Python 3",
   "language": "python",
   "name": "python3"
  },
  "language_info": {
   "codemirror_mode": {
    "name": "ipython",
    "version": 3
   },
   "file_extension": ".py",
   "mimetype": "text/x-python",
   "name": "python",
   "nbconvert_exporter": "python",
   "pygments_lexer": "ipython3",
   "version": "3.6.2"
  }
 },
 "nbformat": 4,
 "nbformat_minor": 2
}
